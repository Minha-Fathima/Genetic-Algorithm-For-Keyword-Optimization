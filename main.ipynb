{
 "cells": [
  {
   "cell_type": "code",
   "execution_count": 1,
   "id": "e3c59474",
   "metadata": {},
   "outputs": [],
   "source": [
    "import numpy as np\n",
    "from deap import base, creator, tools, algorithms\n",
    "import random\n",
    "import pandas as pd"
   ]
  },
  {
   "cell_type": "code",
   "execution_count": 2,
   "id": "1d0f6644",
   "metadata": {},
   "outputs": [],
   "source": [
    "df = pd.read_csv('C:/Users/Fathima/Desktop/Me/Trustline Digital/Genetic-Algorithm-For-Keyword-Optimization/Keyword-data.csv')\n",
    "keywords = df['Keywords'].tolist()\n",
    "volumes = df['Volume'].tolist()\n",
    "difficulties = df['Keyword Difficulty'].tolist() "
   ]
  },
  {
   "cell_type": "code",
   "execution_count": 3,
   "id": "1f236525",
   "metadata": {},
   "outputs": [
    {
     "data": {
      "text/html": [
       "<div>\n",
       "<style scoped>\n",
       "    .dataframe tbody tr th:only-of-type {\n",
       "        vertical-align: middle;\n",
       "    }\n",
       "\n",
       "    .dataframe tbody tr th {\n",
       "        vertical-align: top;\n",
       "    }\n",
       "\n",
       "    .dataframe thead th {\n",
       "        text-align: right;\n",
       "    }\n",
       "</style>\n",
       "<table border=\"1\" class=\"dataframe\">\n",
       "  <thead>\n",
       "    <tr style=\"text-align: right;\">\n",
       "      <th></th>\n",
       "      <th>Keywords</th>\n",
       "      <th>Volume</th>\n",
       "      <th>Keyword Difficulty</th>\n",
       "    </tr>\n",
       "  </thead>\n",
       "  <tbody>\n",
       "    <tr>\n",
       "      <th>0</th>\n",
       "      <td>digital marketing agency dubai</td>\n",
       "      <td>3600</td>\n",
       "      <td>40</td>\n",
       "    </tr>\n",
       "    <tr>\n",
       "      <th>1</th>\n",
       "      <td>cms website development dubai</td>\n",
       "      <td>90</td>\n",
       "      <td>8</td>\n",
       "    </tr>\n",
       "    <tr>\n",
       "      <th>2</th>\n",
       "      <td>conversion rate optimization service in dubai</td>\n",
       "      <td>90</td>\n",
       "      <td>9</td>\n",
       "    </tr>\n",
       "    <tr>\n",
       "      <th>3</th>\n",
       "      <td>brochure design dubai</td>\n",
       "      <td>170</td>\n",
       "      <td>11</td>\n",
       "    </tr>\n",
       "    <tr>\n",
       "      <th>4</th>\n",
       "      <td>advertising agencies in dubai</td>\n",
       "      <td>1000</td>\n",
       "      <td>26</td>\n",
       "    </tr>\n",
       "  </tbody>\n",
       "</table>\n",
       "</div>"
      ],
      "text/plain": [
       "                                        Keywords  Volume  Keyword Difficulty\n",
       "0                 digital marketing agency dubai    3600                  40\n",
       "1                  cms website development dubai      90                   8\n",
       "2  conversion rate optimization service in dubai      90                   9\n",
       "3                          brochure design dubai     170                  11\n",
       "4                  advertising agencies in dubai    1000                  26"
      ]
     },
     "execution_count": 3,
     "metadata": {},
     "output_type": "execute_result"
    }
   ],
   "source": [
    "df.head()"
   ]
  },
  {
   "cell_type": "markdown",
   "id": "0b0b5065",
   "metadata": {},
   "source": [
    "### Parameter Setting"
   ]
  },
  {
   "cell_type": "code",
   "execution_count": 4,
   "id": "853becbb",
   "metadata": {},
   "outputs": [],
   "source": [
    "difficulty_threshold = 0.75\n",
    "penalty = 1000\n",
    "\n",
    "# Crossover operator parameter\n",
    "alpha = 0.5  # Blend factor for crossover\n",
    "\n",
    "# Mutation operator parameters\n",
    "mu = 0  # Mean of Gaussian distribution for mutation\n",
    "sigma = 1  # Standard deviation of Gaussian distribution for mutation\n",
    "indpb = 0.2  # Probability of gene being mutated\n",
    "\n",
    "# Selection operator parameter\n",
    "tournsize = 3  # Tournament selection size\n",
    "\n",
    "# Population size\n",
    "pop_size = 50  # Initial population size\n",
    "\n",
    "# Number of generations\n",
    "ngen = 40  # Number of generations\n",
    "\n",
    "# Crossover and mutation probabilities\n",
    "cxpb = 0.5  # Probability of crossover\n",
    "mutpb = 0.2  # Probability of mutation "
   ]
  },
  {
   "cell_type": "code",
   "execution_count": 5,
   "id": "c96f355d",
   "metadata": {},
   "outputs": [],
   "source": [
    "creator.create(\"FitnessMax\", base.Fitness, weights=(1.0,))\n",
    "creator.create(\"Individual\", list, fitness=creator.FitnessMax)"
   ]
  },
  {
   "cell_type": "code",
   "execution_count": 6,
   "id": "e1bbc2c9",
   "metadata": {},
   "outputs": [],
   "source": [
    "toolbox = base.Toolbox()\n",
    "toolbox.register(\"attr_float\", random.random)\n",
    "toolbox.register(\"individual\", tools.initRepeat, creator.Individual, toolbox.attr_float, n=len(keywords))\n",
    "toolbox.register(\"population\", tools.initRepeat, list, toolbox.individual)"
   ]
  },
  {
   "cell_type": "code",
   "execution_count": null,
   "id": "55ce5798",
   "metadata": {},
   "outputs": [],
   "source": [
    "def evaluate(individual):\n",
    "    total_volume = np.dot(individual, volumes)\n",
    "    total_difficulty = np.dot(individual, difficulties)\n",
    "    if total_difficulty > difficulty_threshold:\n",
    "        total_volume -= penalty * (total_difficulty - difficulty_threshold)\n",
    "    return total_volume, #must return a tuple for DEAP\n",
    "\n",
    "\n",
    "toolbox.register(\"mate\", tools.cxBlend, alpha=alpha)\n",
    "toolbox.register(\"mutate\", tools.mutGaussian, mu=mu, sigma=sigma, indpb=indpb)\n",
    "toolbox.register(\"select\", tools.selTournament, tournsize= tournsize)\n",
    "toolbox.register(\"evaluate\", evaluate)\n",
    "\n",
    "# toolbox.register(\"mate\", tools.cxBlend, alpha=0.5)\n",
    "# toolbox.register(\"mutate\", tools.mutGaussian, mu=0, sigma=1, indpb=0.2)\n",
    "# toolbox.register(\"select\", tools.selTournament, tournsize=3)\n",
    "# toolbox.register(\"evaluate\", evaluate)\n"
   ]
  },
  {
   "cell_type": "code",
   "execution_count": null,
   "id": "fb724685",
   "metadata": {},
   "outputs": [
    {
     "name": "stdout",
     "output_type": "stream",
     "text": [
      "gen\tnevals\tavg   \tstd    \tmin    \tmax     \n",
      "0  \t50    \t-87122\t19362.8\t-126784\t-43514.4\n",
      "1  \t29    \t-69182.5\t19424.3\t-110502\t-19652.1\n",
      "2  \t32    \t-54274.4\t20386.9\t-98762.6\t-1504.29\n",
      "3  \t39    \t-35171.9\t28258.1\t-127377 \t-401.337\n",
      "4  \t26    \t-22033.9\t28389.9\t-121656 \t606.987 \n",
      "5  \t28    \t-7678.53\t12507.6\t-68181.8\t606.987 \n",
      "6  \t36    \t-2538.96\t5884.37\t-39835.5\t606.987 \n",
      "7  \t28    \t-594.38 \t1696.32\t-11713.5\t993.657 \n",
      "8  \t29    \t-4102.68\t12842.9\t-80429  \t1454.49 \n",
      "9  \t22    \t-2019.61\t6359.43\t-28326.9\t1454.49 \n",
      "10 \t36    \t-4241.33\t19040.6\t-125468 \t1841.59 \n",
      "11 \t18    \t722.071 \t1918.61\t-11198.4\t1841.59 \n",
      "12 \t36    \t-421.653\t4447.88\t-17464.3\t1841.59 \n",
      "13 \t37    \t-2713.89\t11131.7\t-54966.1\t2517.75 \n",
      "14 \t28    \t-1299.99\t9244.21\t-44593.1\t2541.15 \n",
      "15 \t31    \t-3585.87\t18983.6\t-116280 \t2541.15 \n",
      "16 \t24    \t-330.944\t8071.85\t-39306.1\t2541.15 \n",
      "17 \t32    \t-1213.37\t9229.27\t-47269.1\t2600.79 \n",
      "18 \t34    \t637.03  \t4629.19\t-24953.7\t3083.71 \n",
      "19 \t22    \t1637.65 \t5074.09\t-33637.1\t3018.42 \n",
      "20 \t29    \t1200.08 \t5365.28\t-30601.7\t2909.66 \n",
      "21 \t29    \t582.638 \t6326.54\t-29792.7\t2993.37 \n",
      "22 \t29    \t-873.485\t14234.9\t-84383.8\t3168.07 \n",
      "23 \t20    \t985.229 \t5026.6 \t-18322.5\t3168.07 \n",
      "24 \t35    \t-3563.15\t17987.7\t-94511.9\t3168.07 \n",
      "25 \t27    \t532.466 \t7946.3 \t-48800.7\t3266.71 \n",
      "26 \t27    \t-334.154\t9093.29\t-43585.9\t3971.15 \n",
      "27 \t36    \t-1768.82\t12592.3\t-58262.7\t3971.15 \n",
      "28 \t30    \t826.551 \t9254.84\t-43210.2\t3779.23 \n",
      "29 \t27    \t2082.03 \t3824.65\t-17837.4\t3960.63 \n",
      "30 \t38    \t-2307.63\t14035.9\t-72801.6\t4598.31 \n",
      "31 \t28    \t2831.02 \t2378.17\t-9714.17\t4016.46 \n",
      "32 \t32    \t2454.13 \t3561.36\t-12681.1\t4520.83 \n",
      "33 \t33    \t610.384 \t7089.31\t-23756.7\t4796.66 \n",
      "34 \t38    \t911.144 \t8513.33\t-30617.2\t5008.54 \n",
      "35 \t33    \t1578.09 \t5525.55\t-17865  \t5144.91 \n",
      "36 \t25    \t2211.96 \t5830.48\t-21212  \t6081.17 \n",
      "37 \t28    \t1544.29 \t7984.15\t-26439.8\t6081.17 \n",
      "38 \t28    \t4444.56 \t2265.11\t-5223.46\t6081.17 \n",
      "39 \t28    \t4250.82 \t3956.18\t-11568.1\t6205.18 \n",
      "40 \t23    \t3930.9  \t5052.75\t-25614.3\t6454.35 \n",
      "Best individual is [1.5313280707382368, -2.8271353410601243, 0.4708736475252547, 0.5491494878082537, 0.6017994239410539, -2.9451887382377464, 0.002558432634275243, 0.7137590310059342, -4.534630090269672]\n",
      "with fitness: (np.float64(6454.350719658257),)\n",
      "Best weights: [0.3957464  0.         0.1216895  0.1419186  0.1555251  0.\n",
      " 0.00066118 0.18445921 0.        ]\n",
      "Results saved to Optimization_Output.csv\n"
     ]
    }
   ],
   "source": [
    "def main():\n",
    "    random.seed(64)\n",
    "    pop = toolbox.population(n=pop_size)\n",
    "    hof = tools.HallOfFame(1)\n",
    "    stats = tools.Statistics(lambda ind: ind.fitness.values)\n",
    "    stats.register(\"avg\", np.mean)\n",
    "    stats.register(\"std\", np.std)\n",
    "    stats.register(\"min\", np.min)\n",
    "    stats.register(\"max\", np.max)\n",
    "\n",
    "    pop, log = algorithms.eaSimple(pop, toolbox, cxpb=cxpb, mutpb=mutpb, ngen=ngen,\n",
    "                                   stats=stats, halloffame=hof, verbose=True)\n",
    "    # pop, log = algorithms.eaSimple(pop, toolbox, cxpb=0.5, mutpb=0.2, ngen=40, \n",
    "    #                                 stats=stats, halloffame=hof, verbose=True)\n",
    "    return pop, log, hof\n",
    "\n",
    "if __name__ == \"__main__\":\n",
    "    pop, log, hof = main()\n",
    "    print(\"Best individual is %s\\nwith fitness: %s\" % (hof[0], hof[0].fitness))\n",
    "\n",
    "    # Normalize weights to sum to 1 and not get negative weights\n",
    "    best_weights = np.clip(hof[0], 0, None)\n",
    "    best_weights = best_weights / np.sum(best_weights)\n",
    "    print(\"Best weights:\", best_weights)\n",
    "\n",
    "    # Create output dataframe\n",
    "    result_df = pd.DataFrame({\n",
    "        'Keyword': keywords,\n",
    "        'Optimal Weight': best_weights\n",
    "    })\n",
    "\n",
    "    # Save to csv file\n",
    "    result_df.to_csv('Optimization_Output.csv', index=False)\n",
    "    print(\"Results saved to Optimization_Output.csv\")"
   ]
  }
 ],
 "metadata": {
  "kernelspec": {
   "display_name": ".venv (3.12.0)",
   "language": "python",
   "name": "python3"
  },
  "language_info": {
   "codemirror_mode": {
    "name": "ipython",
    "version": 3
   },
   "file_extension": ".py",
   "mimetype": "text/x-python",
   "name": "python",
   "nbconvert_exporter": "python",
   "pygments_lexer": "ipython3",
   "version": "3.12.0"
  }
 },
 "nbformat": 4,
 "nbformat_minor": 5
}
