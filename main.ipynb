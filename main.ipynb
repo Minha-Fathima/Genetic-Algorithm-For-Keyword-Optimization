{
 "cells": [
  {
   "cell_type": "code",
   "execution_count": 3,
   "id": "e3c59474",
   "metadata": {},
   "outputs": [],
   "source": [
    "import numpy as np\n",
    "from deap import base, creator, tools, algorithms\n",
    "import random\n",
    "import pandas as pd"
   ]
  },
  {
   "cell_type": "code",
   "execution_count": 9,
   "id": "1d0f6644",
   "metadata": {},
   "outputs": [],
   "source": [
    "df = pd.read_csv('C:/Users/Fathima/Desktop/Me/Trustline Digital/Genetic-Algorithm-For-Keyword-Optimization/Keyword-data.csv')\n",
    "keywords = df['Keywords'].tolist()\n",
    "volumes = df['Volume'].tolist()\n",
    "difficulties = df['Keyword Difficulty'].tolist() "
   ]
  },
  {
   "cell_type": "code",
   "execution_count": 10,
   "id": "1f236525",
   "metadata": {},
   "outputs": [
    {
     "data": {
      "text/html": [
       "<div>\n",
       "<style scoped>\n",
       "    .dataframe tbody tr th:only-of-type {\n",
       "        vertical-align: middle;\n",
       "    }\n",
       "\n",
       "    .dataframe tbody tr th {\n",
       "        vertical-align: top;\n",
       "    }\n",
       "\n",
       "    .dataframe thead th {\n",
       "        text-align: right;\n",
       "    }\n",
       "</style>\n",
       "<table border=\"1\" class=\"dataframe\">\n",
       "  <thead>\n",
       "    <tr style=\"text-align: right;\">\n",
       "      <th></th>\n",
       "      <th>Keywords</th>\n",
       "      <th>Volume</th>\n",
       "      <th>Keyword Difficulty</th>\n",
       "    </tr>\n",
       "  </thead>\n",
       "  <tbody>\n",
       "    <tr>\n",
       "      <th>0</th>\n",
       "      <td>digital marketing agency dubai</td>\n",
       "      <td>3600</td>\n",
       "      <td>40</td>\n",
       "    </tr>\n",
       "    <tr>\n",
       "      <th>1</th>\n",
       "      <td>cms website development dubai</td>\n",
       "      <td>90</td>\n",
       "      <td>8</td>\n",
       "    </tr>\n",
       "    <tr>\n",
       "      <th>2</th>\n",
       "      <td>conversion rate optimization service in dubai</td>\n",
       "      <td>90</td>\n",
       "      <td>9</td>\n",
       "    </tr>\n",
       "    <tr>\n",
       "      <th>3</th>\n",
       "      <td>brochure design dubai</td>\n",
       "      <td>170</td>\n",
       "      <td>11</td>\n",
       "    </tr>\n",
       "    <tr>\n",
       "      <th>4</th>\n",
       "      <td>advertising agencies in dubai</td>\n",
       "      <td>1000</td>\n",
       "      <td>26</td>\n",
       "    </tr>\n",
       "  </tbody>\n",
       "</table>\n",
       "</div>"
      ],
      "text/plain": [
       "                                        Keywords  Volume  Keyword Difficulty\n",
       "0                 digital marketing agency dubai    3600                  40\n",
       "1                  cms website development dubai      90                   8\n",
       "2  conversion rate optimization service in dubai      90                   9\n",
       "3                          brochure design dubai     170                  11\n",
       "4                  advertising agencies in dubai    1000                  26"
      ]
     },
     "execution_count": 10,
     "metadata": {},
     "output_type": "execute_result"
    }
   ],
   "source": [
    "df.head()"
   ]
  },
  {
   "cell_type": "markdown",
   "id": "0b0b5065",
   "metadata": {},
   "source": [
    "### Parameter Setting"
   ]
  },
  {
   "cell_type": "code",
   "execution_count": 12,
   "id": "853becbb",
   "metadata": {},
   "outputs": [],
   "source": [
    "difficulty_threshold = 0.75\n",
    "penalty = 1000"
   ]
  },
  {
   "cell_type": "markdown",
   "id": "f7cb9c4d",
   "metadata": {},
   "source": [
    "### Creating Fitness and Individual Classes:"
   ]
  },
  {
   "cell_type": "code",
   "execution_count": null,
   "id": "c96f355d",
   "metadata": {},
   "outputs": [],
   "source": [
    "creator.create(\"FitnessMax\", base.Fitness, weights=(1.0,))\n",
    "creator.create(\"Individual\", list, fitness=creator.FitnessMax)\n",
    "\n",
    "# Crossover operator parameter\n",
    "alpha = 0.5  # Blend factor for crossover\n",
    "\n",
    "# Mutation operator parameters\n",
    "mu = 0  # Mean of Gaussian distribution for mutation\n",
    "sigma = 1  # Standard deviation of Gaussian distribution for mutation\n",
    "indpb = 0.2  # Probability of gene being mutated\n",
    "\n",
    "# Selection operator parameter\n",
    "tournsize = 3  # Tournament selection size\n",
    "\n",
    "# Population size\n",
    "pop_size = 50  # Initial population size\n",
    "\n",
    "# Number of generations\n",
    "ngen = 40  # Number of generations\n",
    "\n",
    "# Crossover and mutation probabilities\n",
    "cxpb = 0.5  # Probability of crossover\n",
    "mutpb = 0.2  # Probability of mutation "
   ]
  },
  {
   "cell_type": "markdown",
   "id": "4c786e9f",
   "metadata": {},
   "source": [
    "### Toolbox Creation:"
   ]
  },
  {
   "cell_type": "code",
   "execution_count": null,
   "id": "e1bbc2c9",
   "metadata": {},
   "outputs": [],
   "source": [
    "toolbox = base.Toolbox()\n",
    "toolbox.register(\"attr_float\", random.random)\n",
    "toolbox.register(\"individual\", tools.initRepeat, creator.Individual, toolbox.attr_float, n=len(keywords))\n",
    "toolbox.register(\"population\", tools.initRepeat, list, toolbox.individual)"
   ]
  }
 ],
 "metadata": {
  "kernelspec": {
   "display_name": ".venv (3.12.0)",
   "language": "python",
   "name": "python3"
  },
  "language_info": {
   "codemirror_mode": {
    "name": "ipython",
    "version": 3
   },
   "file_extension": ".py",
   "mimetype": "text/x-python",
   "name": "python",
   "nbconvert_exporter": "python",
   "pygments_lexer": "ipython3",
   "version": "3.12.0"
  }
 },
 "nbformat": 4,
 "nbformat_minor": 5
}
